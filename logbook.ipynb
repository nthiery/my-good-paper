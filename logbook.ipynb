{
 "cells": [
  {
   "cell_type": "code",
   "execution_count": 40,
   "metadata": {},
   "outputs": [
    {
     "name": "stdout",
     "output_type": "stream",
     "text": [
      "Object `tableaux` not found.\n",
      "Object `tableaux` not found.\n"
     ]
    }
   ],
   "source": [
    "# 10/07/2019\n",
    "\n",
    "Experimenting about combinatorics of standard tableaux?\n",
    "\n",
    "What happens if we sum the square of the number of tableaux?"
   ]
  },
  {
   "cell_type": "code",
   "execution_count": null,
   "metadata": {},
   "outputs": [],
   "source": [
    "What happens if we sum the square of the number of tableaux"
   ]
  },
  {
   "cell_type": "code",
   "execution_count": 41,
   "metadata": {},
   "outputs": [],
   "source": [
    "%runfile semisimple_algebras.sage"
   ]
  },
  {
   "cell_type": "code",
   "execution_count": 42,
   "metadata": {},
   "outputs": [],
   "source": [
    "def semisimpleDimensionForSn(n):\n",
    "    return [ StandardTableaux(p).cardinality()\n",
    "      for p in Partitions(n)  ]    "
   ]
  },
  {
   "cell_type": "code",
   "execution_count": 43,
   "metadata": {},
   "outputs": [
    {
     "data": {
      "text/plain": [
       "24"
      ]
     },
     "execution_count": 43,
     "metadata": {},
     "output_type": "execute_result"
    }
   ],
   "source": [
    "DimensionOfSemisimpleAlgebra(semisimpleDimensionForSn(4))"
   ]
  },
  {
   "cell_type": "code",
   "execution_count": 45,
   "metadata": {},
   "outputs": [
    {
     "name": "stdout",
     "output_type": "stream",
     "text": [
      "Error getting source: <module '__builtin__' (built-in)> is a built-in class\n"
     ]
    }
   ],
   "source": [
    "DimensionOfSemisimpleAlgebra??"
   ]
  },
  {
   "cell_type": "code",
   "execution_count": 46,
   "metadata": {},
   "outputs": [
    {
     "name": "stdout",
     "output_type": "stream",
     "text": [
      "too many failed tests, not using stored timings\n",
      "Running doctests with ID 2019-07-10-11-28-30-8255987f.\n",
      "Git branch: t/27911/do_not_restric_libgap_xxx_to_a_predefined_list\n",
      "Using --optional=build,dochtml,dot2tex,gap_packages,memlimit,mpir,notedown,pandoc_attributes,python2,rst2ipynb,sage\n",
      "Doctesting 1 file.\n",
      "sage -t semisimple_algebras.sage\n",
      "    [1 test, 0.00 s]\n",
      "----------------------------------------------------------------------\n",
      "All tests passed!\n",
      "----------------------------------------------------------------------\n",
      "Total time for all tests: 0.0 seconds\n",
      "    cpu time: 0.0 seconds\n",
      "    cumulative wall time: 0.0 seconds\n"
     ]
    }
   ],
   "source": [
    "! sage -t semisimple_algebras.sage"
   ]
  },
  {
   "cell_type": "code",
   "execution_count": null,
   "metadata": {},
   "outputs": [],
   "source": []
  }
 ],
 "metadata": {
  "kernelspec": {
   "display_name": "SageMath 8.8.beta7",
   "language": "sage",
   "name": "sagemath"
  },
  "language_info": {
   "codemirror_mode": {
    "name": "ipython",
    "version": 2
   },
   "file_extension": ".py",
   "mimetype": "text/x-python",
   "name": "python",
   "nbconvert_exporter": "python",
   "pygments_lexer": "ipython2",
   "version": "2.7.15"
  }
 },
 "nbformat": 4,
 "nbformat_minor": 2
}
